{
  "nbformat": 4,
  "nbformat_minor": 0,
  "metadata": {
    "colab": {
      "provenance": [],
      "authorship_tag": "ABX9TyOu4eft0JHMR5v6IEiH4gwB",
      "include_colab_link": true
    },
    "kernelspec": {
      "name": "python3",
      "display_name": "Python 3"
    },
    "language_info": {
      "name": "python"
    }
  },
  "cells": [
    {
      "cell_type": "markdown",
      "metadata": {
        "id": "view-in-github",
        "colab_type": "text"
      },
      "source": [
        "<a href=\"https://colab.research.google.com/github/ea-castrobelmont/EP/blob/main/Ejercicio1.ipynb\" target=\"_parent\"><img src=\"https://colab.research.google.com/assets/colab-badge.svg\" alt=\"Open In Colab\"/></a>"
      ]
    },
    {
      "cell_type": "code",
      "execution_count": 1,
      "metadata": {
        "colab": {
          "base_uri": "https://localhost:8080/"
        },
        "id": "MQ13QlD43_9y",
        "outputId": "470a8432-cb63-4213-81e5-0c3cf65567c2"
      },
      "outputs": [
        {
          "output_type": "stream",
          "name": "stdout",
          "text": [
            "Usage: python computeStatistics.py fileWithData.txt\n",
            "Time elapsed for execution: 0.0011048316955566406 seconds\n"
          ]
        }
      ],
      "source": [
        "import sys\n",
        "import time\n",
        "import statistics\n",
        "\n",
        "def compute_statistics(file_path):\n",
        "    try:\n",
        "        with open(file_path, 'r') as file:\n",
        "            data = [float(line.strip()) for line in file]\n",
        "\n",
        "        count = len(data)\n",
        "        mean = statistics.mean(data)\n",
        "        median = statistics.median(data)\n",
        "        mode = statistics.mode(data)\n",
        "        standard_deviation = statistics.stdev(data)\n",
        "        variance = statistics.variance(data)\n",
        "\n",
        "        result_str = f\"COUNT\\t{count}\\nMEAN\\t{mean}\\nMEDIAN\\t{median}\\nMODE\\t{mode}\\nSD\\t{standard_deviation}\\nVARIANCE\\t{variance}\"\n",
        "\n",
        "        with open(\"StatisticsResults.txt\", 'w') as result_file:\n",
        "            result_file.write(result_str)\n",
        "\n",
        "        print(result_str)\n",
        "\n",
        "    except FileNotFoundError:\n",
        "        print(\"File not found.\")\n",
        "    except ValueError:\n",
        "        print(\"Invalid data in the file.\")\n",
        "    except Exception as e:\n",
        "        print(f\"An error occurred: {e}\")\n",
        "\n",
        "if __name__ == \"__main__\":\n",
        "    start_time = time.time()\n",
        "\n",
        "    if len(sys.argv) != 2:\n",
        "        print(\"Usage: python computeStatistics.py fileWithData.txt\")\n",
        "    else:\n",
        "        compute_statistics(sys.argv[1])\n",
        "\n",
        "    end_time = time.time()\n",
        "    execution_time = end_time - start_time\n",
        "    print(f\"Time elapsed for execution: {execution_time} seconds\")\n"
      ]
    },
    {
      "cell_type": "code",
      "source": [
        "compute_statistics(\"/content/TC2.txt\")"
      ],
      "metadata": {
        "colab": {
          "base_uri": "https://localhost:8080/"
        },
        "id": "TotJne-a6Y7E",
        "outputId": "76427962-b602-4515-8a2c-9d46086727ed"
      },
      "execution_count": 6,
      "outputs": [
        {
          "output_type": "stream",
          "name": "stdout",
          "text": [
            "COUNT\t1977\n",
            "MEAN\t250.7840161861406\n",
            "MEDIAN\t247.0\n",
            "MODE\t230.0\n",
            "SD\t144.20779467138226\n",
            "VARIANCE\t20795.888043983545\n"
          ]
        }
      ]
    }
  ]
}